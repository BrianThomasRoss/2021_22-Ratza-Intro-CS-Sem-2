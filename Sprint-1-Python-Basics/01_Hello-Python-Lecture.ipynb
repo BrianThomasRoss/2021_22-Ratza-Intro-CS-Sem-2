{
  "nbformat": 4,
  "nbformat_minor": 0,
  "metadata": {
    "colab": {
      "name": "python_basics_lecture_instructor_key.ipynb",
      "provenance": [],
      "authorship_tag": "ABX9TyNcp4ct+azHTkn4X5gIwvup",
      "include_colab_link": true
    },
    "kernelspec": {
      "name": "python3",
      "display_name": "Python 3"
    },
    "language_info": {
      "name": "python"
    }
  },
  "cells": [
    {
      "cell_type": "markdown",
      "metadata": {
        "id": "view-in-github",
        "colab_type": "text"
      },
      "source": [
        "<a href=\"https://colab.research.google.com/github/BrianThomasRoss/2021_22-Ratza-Intro-CS-Sem-2/blob/main/Sprint-1-Python-Basics/01_Hello-Python-Lecture.ipynb\" target=\"_parent\"><img src=\"https://colab.research.google.com/assets/colab-badge.svg\" alt=\"Open In Colab\"/></a>"
      ]
    },
    {
      "cell_type": "markdown",
      "source": [
        "# Welcome to the Python Programming Language\n",
        "----"
      ],
      "metadata": {
        "id": "EwaevImlAByU"
      }
    },
    {
      "cell_type": "markdown",
      "source": [
        "Python comes highly recommended as a first language for those new to programming because of its wide adoption, ease of use, and large community. According to [Wikipedia](https://en.wikipedia.org/wiki/Python_(programming_language)):\n",
        "\n",
        "> Guido van Rossum began working on Python in the late 1980s, as a successor to the ABC programming language, and first released it in 1991 as Python 0.9.0. Python 2.0 was released in 2000 and introduced new features, such as list comprehensions and a cycle-detecting garbage collection system (in addition to reference counting). Python 3.0 was released in 2008 and was a major revision of the language that is not completely backward-compatible. Python 2 was discontinued with version 2.7.18 in 2020.\n",
        "\n",
        "Python is a **general use** language, meaning that it has a wide variety of applications and use cases. Today Python is used in almost every industry for things like artificial intelligence engineering, web design, financial modelling and planning, healthcare and many more. Python can be used to create **front end** components like web applications and desktop GUIs (Graphical User Interface). Front end components are those components of an application that a user can interact with. They are likely what you're currently most familiar with. They are the buttons, search bars, and pages you click and manipulate when you use a computer application. As you will learn however there is much more to even a simple application or program than the front end. The **back end** components of an application are abstracted away from the user by the front end but consist of components like databases, APIs (application program interface), caches and more. Don't worry if you're a little confused at this point but if you would like to know more about the difference between the front and back end of an application an article is available [here](https://kenzie.snhu.edu/blog/front-end-vs-back-end-whats-the-difference/) (*hint: this might be helpful for the assignment*).\n",
        "\n"
      ],
      "metadata": {
        "id": "5IoqBZJ2AL8F"
      }
    },
    {
      "cell_type": "markdown",
      "source": [
        "### Colab and Jupyter\n",
        "\n",
        "What we're using right now is what is called a **Jupyter notebook**. Jupyter notebooks provide a web-based, interactive and shareable runtime for Python and other languages. This notebook is hosted in the cloud (read: someone else's computer) by Google Collaboratory which allows users to run Jupyter notebooks using Google's servers.\n",
        "\n",
        "Having a ready to go environment will allow us to explore and become familiar with the language without having to worry about more complex set up processes.\n",
        "\n",
        "Running the cell below will bring up a helpful video for getting started with Google Colab."
      ],
      "metadata": {
        "id": "ZfOEEHGJZCkF"
      }
    },
    {
      "cell_type": "code",
      "source": [
        "from IPython.display import HTML\n",
        "\n",
        "HTML(\"\"\"\n",
        "<iframe width=\"560\" height=\"315\" src=\"https://www.youtube.com/embed/inN8seMm7UI\"\n",
        "        title=\"YouTube video player\" frameborder=\"0\" \n",
        "        allow=\"accelerometer; autoplay; clipboard-write; encrypted-media; gyroscope; picture-in-picture\" allowfullscreen>\n",
        "</iframe>\n",
        "\"\"\")"
      ],
      "metadata": {
        "colab": {
          "base_uri": "https://localhost:8080/",
          "height": 336
        },
        "id": "NjJ0E5tOZBlk",
        "outputId": "c255c857-26e1-4a27-c29a-0bda87a06c97"
      },
      "execution_count": null,
      "outputs": [
        {
          "data": {
            "text/plain": "<IPython.core.display.HTML object>",
            "text/html": "\n<iframe width=\"560\" height=\"315\" src=\"https://www.youtube.com/embed/inN8seMm7UI\"\n        title=\"YouTube video player\" frameborder=\"0\" \n        allow=\"accelerometer; autoplay; clipboard-write; encrypted-media; gyroscope; picture-in-picture\" allowfullscreen>\n</iframe>\n"
          },
          "execution_count": 1,
          "metadata": {},
          "output_type": "execute_result"
        }
      ]
    },
    {
      "cell_type": "markdown",
      "source": [
        "### Open Source Software (OSS)\n",
        "\n",
        "In addition to Python's numerous contributions and use cases in a variety of industries it has also been at the forefront of the **open source** community. According to another behemoth in the open source community, [RedHat](https://www.redhat.com/en/topics/open-source/what-is-open-source):\n",
        "\n",
        ">Open source is a term that originally referred to open source software (OSS). Open source software is code that is designed to be publicly accessible—anyone can see, modify, and distribute the code as they see fit.\n",
        ">\n",
        ">Open source software is developed in a decentralized and collaborative way, relying on peer review and community production. Open source software is often cheaper, more flexible, and has more longevity than its proprietary peers because it is developed by communities rather than a single author or company.\n",
        ">\n",
        ">Open source has become a movement and a way of working that reaches beyond software production. The open source movement uses the values and decentralized production model of open source software to find new ways to solve problems in their communities and industries.\n",
        "\n",
        "One of the great benefits of open source collaboration is being to able to work with a diverse community of contributors with unique perspectives. As a consequence, the open source community has also been leading the charge making programming and tech a more inclusive and equitable space for all. This culture and philosophy has directly had an impact on the history of Python and is even codified into the language via the Python Software Foudation's [Code of Conduct](https://www.python.org/psf/conduct/):\n",
        "\n",
        "```\n",
        "Every member of our community has the right to have their identity respected. The Python community is dedicated to providing a positive experience for everyone, regardless of age, gender identity and expression, sexual orientation, disability, physical appearance, body size, ethnicity, nationality, race, or religion (or lack thereof), education, or socio-economic status.\n",
        "```"
      ],
      "metadata": {
        "id": "EiUdNo-ZQOtE"
      }
    },
    {
      "cell_type": "markdown",
      "source": [
        "### The Zen of Python\n",
        "\n",
        "Python is designed to be a user friendly and straightforward language first and foremost. Python has a clearly defined process for enhancements or changes to the language. These are referred to a Python Enhancement Proposals or PEPs. For a PEP to be accepted it must go through a rigorous process in addition to acquiring substantial support from the community. One of the first proposals accepted [PEP 20](https://www.python.org/dev/peps/pep-0020/) outlines the design philosophy and principles in Python. It has since been made available as an easter egg in the language itself.\n",
        "\n",
        "Let's run the first code cell below\n",
        "(<kbd>Shift</kbd> + <kbd>Enter</kbd>) to bring it up!"
      ],
      "metadata": {
        "id": "6V9PJ0NEWp_t"
      }
    },
    {
      "cell_type": "code",
      "source": [
        ""
      ],
      "metadata": {
        "id": "Nz_SGyEKYdX2"
      },
      "execution_count": null,
      "outputs": []
    },
    {
      "cell_type": "markdown",
      "source": [
        "These aphormisms encapsulate what it means to write Pythonic code, or code that favors useability, simplicity and extensibility."
      ],
      "metadata": {
        "id": "NVLMulj2YM4S"
      }
    },
    {
      "cell_type": "markdown",
      "source": [
        "### The Development Environment"
      ],
      "metadata": {
        "id": "-fksgEMBvLYL"
      }
    },
    {
      "cell_type": "markdown",
      "source": [
        "Before we can start planning the next great start up that will compete with Facebook and Google we need to familiarize ourselves with some terms and concepts. As you're no doubt already aware the computer in front of you is made up of various complex components, physical and virtual, that together provide you with a way to access the tools that have become a part of daily life for nearly everyone.\n",
        "\n",
        "**So what exactly is a development environment?**\n",
        "\n",
        "No we're not talking about the vibe of the room you're sitting in, a **development environment** is where a programmer, or developer, does their work. A development environment can be **remote**, meaning it can be accessed through the internet or other network like the one you are using now. A dev environment can also be **local**, a local environemnt exists on the PC in front of you with all the tools installed and requires no internet access.\n",
        "\n",
        "**What are the parts of a development environment?**\n",
        "\n",
        "The lowest level of the environment that most of you are familiar with is the **operating system**, or OS. The operating system is the majority of people interact with the computer. It provides graphical and user friendly interfaces for users to interact with. However the operating system is itself the combination of a number of other programs working behind the scenes **abstracted** away from the end user. Many of you are familiar with Microsoft's Windows operating system"
      ],
      "metadata": {
        "id": "NKZVly-ovcDk"
      }
    },
    {
      "cell_type": "markdown",
      "source": [
        "### Operating System\n",
        "\n",
        "At some point each of us have probably taken a peak into our desktops or seen the inside of a computer at the very least. The computer is made up of various hardware components. Memory, CPU, SSDs they work together to make a powerful machine that has undoubtedly changed the face of the planet as well as the trajectory of humanity. Your operating system is the thing in between you and those very expensive pieces of sand and precious metals. A typical OS usually breaks down something like this:\n",
        "\n",
        "#### The Kernel\n",
        "\n",
        "The kernel is what gives the operating system control over the various bits and pieces that make up our computers. For Windows users that is NT, which has been around for a while. For those on Mac and Linux there are less noticeable differences as both can trace their roots back to the days of Unix and BSD\n",
        "\n",
        "#### User Interfaces\n",
        "\n",
        "This is what we are most familiar with interacting with. There are 2 distinct user interfaces at play. The Terminal User Interface (TUI) and the Graphical User Interface (GUI) This is what allows us to issue commands to do certain things whether from the command line or by click buttons. These are front end components.\n",
        "\n",
        "#### Application Program Interfaces\n",
        "\n",
        "APIs define interactions between programs and services and how they interact with the operating system. Typically front end components will communicate with APIs that execute the functionality expected by the user.\n",
        "\n",
        "Let's take a look at what operating system Colab is using:"
      ],
      "metadata": {
        "id": "2PcrQwh_F4o_"
      }
    },
    {
      "cell_type": "code",
      "source": [
        "!cat /etc/os-release"
      ],
      "metadata": {
        "id": "e39y7lFaHvZD",
        "outputId": "51bdbd67-8b38-4352-8c12-fbba393bd6bd",
        "colab": {
          "base_uri": "https://localhost:8080/"
        }
      },
      "execution_count": 1,
      "outputs": [
        {
          "output_type": "stream",
          "name": "stdout",
          "text": [
            "NAME=\"Ubuntu\"\n",
            "VERSION=\"18.04.5 LTS (Bionic Beaver)\"\n",
            "ID=ubuntu\n",
            "ID_LIKE=debian\n",
            "PRETTY_NAME=\"Ubuntu 18.04.5 LTS\"\n",
            "VERSION_ID=\"18.04\"\n",
            "HOME_URL=\"https://www.ubuntu.com/\"\n",
            "SUPPORT_URL=\"https://help.ubuntu.com/\"\n",
            "BUG_REPORT_URL=\"https://bugs.launchpad.net/ubuntu/\"\n",
            "PRIVACY_POLICY_URL=\"https://www.ubuntu.com/legal/terms-and-policies/privacy-policy\"\n",
            "VERSION_CODENAME=bionic\n",
            "UBUNTU_CODENAME=bionic\n"
          ]
        }
      ]
    },
    {
      "cell_type": "markdown",
      "source": [
        "Without getting too much into the weeds here we can see that Colab is running the Ubuntu Linux Distribution. Historically the Python community has trended towards UNIX based system like Mac and Linux and you will find that on many Linux distributions that Python is even installed by default and used by the operating system itself."
      ],
      "metadata": {
        "id": "NuZ3yqy3H-Bj"
      }
    },
    {
      "cell_type": "markdown",
      "source": [
        "### Shell and Terminal\n",
        "\n",
        "From [Wikipedia](https://en.wikipedia.org/wiki/Shell_(computing)#cite_note-Economist-1):\n",
        "\n",
        ">In computing, a shell is a computer program which exposes an operating system's services to a human user or other programs. In general, operating system shells use either a command-line interface (CLI) or graphical user interface (GUI), depending on a computer's role and particular operation. It is named a shell because it is the outermost layer around the operating system.\n",
        "\n",
        "We can check the shell we are using in Colab by running the following cell:"
      ],
      "metadata": {
        "id": "GfsGQw5AGLCZ"
      }
    },
    {
      "cell_type": "code",
      "source": [
        "!echo $SHELL"
      ],
      "metadata": {
        "id": "ACUNfj1sHHAy",
        "outputId": "894f85df-f2f4-4214-a17e-ed4ad1eb63ea",
        "colab": {
          "base_uri": "https://localhost:8080/"
        }
      },
      "execution_count": 2,
      "outputs": [
        {
          "output_type": "stream",
          "name": "stdout",
          "text": [
            "/bin/bash\n"
          ]
        }
      ]
    },
    {
      "cell_type": "markdown",
      "source": [
        "The Bourne Again Shell, or bash for short, is a unix shell originally written and released in 1989. It was also the default shell for MacOS systems until 2019 when it was replaced by `zsh`. Shell programs like bash and zsh, or DOS and Powershell in Windows, while not being the focus of this course are languages in their own right and capable of many of the same things as modern programming language like Python. \n",
        "\n",
        "The way we interact with the shell is via the terminal. In Colab the terminal is represented by the code cells which allow you to execute scripts and code snippets in a reproducible, controlled environment."
      ],
      "metadata": {
        "id": "84mop3fzGOgt"
      }
    },
    {
      "cell_type": "markdown",
      "source": [
        "### Interpreter\n",
        "\n",
        "There are two primary types of programming languages, compiled and interpreted. For now it is enough to understand that the Python interpreter (CPython) is what converts the code you write into something capable of being interpreted by a machine. \n",
        "\n",
        "Interpreters like the video games and apps you are already familiar with are improved over time and so different versions have different features an capabilities.\n",
        "\n",
        "We can check the Python version we're currently using with the following command:"
      ],
      "metadata": {
        "id": "AXVUoU4_OZN_"
      }
    },
    {
      "cell_type": "code",
      "source": [
        "!python --version"
      ],
      "metadata": {
        "id": "ncbexsBMQCWo",
        "outputId": "9ef165d0-bacd-4315-a089-680bc7e771ca",
        "colab": {
          "base_uri": "https://localhost:8080/"
        }
      },
      "execution_count": 3,
      "outputs": [
        {
          "output_type": "stream",
          "name": "stdout",
          "text": [
            "Python 3.7.12\n"
          ]
        }
      ]
    },
    {
      "cell_type": "code",
      "source": [
        "!python --help"
      ],
      "metadata": {
        "id": "mWp5uVKxtlSA",
        "outputId": "e523736b-b3dc-40a9-af55-a3e8a34bc6f8",
        "colab": {
          "base_uri": "https://localhost:8080/"
        }
      },
      "execution_count": 4,
      "outputs": [
        {
          "output_type": "stream",
          "name": "stdout",
          "text": [
            "usage: python3 [option] ... [-c cmd | -m mod | file | -] [arg] ...\n",
            "Options and arguments (and corresponding environment variables):\n",
            "-b     : issue warnings about str(bytes_instance), str(bytearray_instance)\n",
            "         and comparing bytes/bytearray with str. (-bb: issue errors)\n",
            "-B     : don't write .pyc files on import; also PYTHONDONTWRITEBYTECODE=x\n",
            "-c cmd : program passed in as string (terminates option list)\n",
            "-d     : debug output from parser; also PYTHONDEBUG=x\n",
            "-E     : ignore PYTHON* environment variables (such as PYTHONPATH)\n",
            "-h     : print this help message and exit (also --help)\n",
            "-i     : inspect interactively after running script; forces a prompt even\n",
            "         if stdin does not appear to be a terminal; also PYTHONINSPECT=x\n",
            "-I     : isolate Python from the user's environment (implies -E and -s)\n",
            "-m mod : run library module as a script (terminates option list)\n",
            "-O     : remove assert and __debug__-dependent statements; add .opt-1 before\n",
            "         .pyc extension; also PYTHONOPTIMIZE=x\n",
            "-OO    : do -O changes and also discard docstrings; add .opt-2 before\n",
            "         .pyc extension\n",
            "-q     : don't print version and copyright messages on interactive startup\n",
            "-s     : don't add user site directory to sys.path; also PYTHONNOUSERSITE\n",
            "-S     : don't imply 'import site' on initialization\n",
            "-u     : force the stdout and stderr streams to be unbuffered;\n",
            "         this option has no effect on stdin; also PYTHONUNBUFFERED=x\n",
            "-v     : verbose (trace import statements); also PYTHONVERBOSE=x\n",
            "         can be supplied multiple times to increase verbosity\n",
            "-V     : print the Python version number and exit (also --version)\n",
            "         when given twice, print more information about the build\n",
            "-W arg : warning control; arg is action:message:category:module:lineno\n",
            "         also PYTHONWARNINGS=arg\n",
            "-x     : skip first line of source, allowing use of non-Unix forms of #!cmd\n",
            "-X opt : set implementation-specific option. The following options are available:\n",
            "\n",
            "         -X faulthandler: enable faulthandler\n",
            "         -X showrefcount: output the total reference count and number of used\n",
            "             memory blocks when the program finishes or after each statement in the\n",
            "             interactive interpreter. This only works on debug builds\n",
            "         -X tracemalloc: start tracing Python memory allocations using the\n",
            "             tracemalloc module. By default, only the most recent frame is stored in a\n",
            "             traceback of a trace. Use -X tracemalloc=NFRAME to start tracing with a\n",
            "             traceback limit of NFRAME frames\n",
            "         -X showalloccount: output the total count of allocated objects for each\n",
            "             type when the program finishes. This only works when Python was built with\n",
            "             COUNT_ALLOCS defined\n",
            "         -X importtime: show how long each import takes. It shows module name,\n",
            "             cumulative time (including nested imports) and self time (excluding\n",
            "             nested imports). Note that its output may be broken in multi-threaded\n",
            "             application. Typical usage is python3 -X importtime -c 'import asyncio'\n",
            "         -X dev: enable CPython’s “development mode”, introducing additional runtime\n",
            "             checks which are too expensive to be enabled by default. Effect of the\n",
            "             developer mode:\n",
            "                * Add default warning filter, as -W default\n",
            "                * Install debug hooks on memory allocators: see the PyMem_SetupDebugHooks() C function\n",
            "                * Enable the faulthandler module to dump the Python traceback on a crash\n",
            "                * Enable asyncio debug mode\n",
            "                * Set the dev_mode attribute of sys.flags to True\n",
            "         -X utf8: enable UTF-8 mode for operating system interfaces, overriding the default\n",
            "             locale-aware mode. -X utf8=0 explicitly disables UTF-8 mode (even when it would\n",
            "             otherwise activate automatically)\n",
            "\n",
            "--check-hash-based-pycs always|default|never:\n",
            "    control how Python invalidates hash-based .pyc files\n",
            "file   : program read from script file\n",
            "-      : program read from stdin (default; interactive mode if a tty)\n",
            "arg ...: arguments passed to program in sys.argv[1:]\n",
            "\n",
            "Other environment variables:\n",
            "PYTHONSTARTUP: file executed on interactive startup (no default)\n",
            "PYTHONPATH   : ':'-separated list of directories prefixed to the\n",
            "               default module search path.  The result is sys.path.\n",
            "PYTHONHOME   : alternate <prefix> directory (or <prefix>:<exec_prefix>).\n",
            "               The default module search path uses <prefix>/lib/pythonX.X.\n",
            "PYTHONCASEOK : ignore case in 'import' statements (Windows).\n",
            "PYTHONUTF8: if set to 1, enable the UTF-8 mode.\n",
            "PYTHONIOENCODING: Encoding[:errors] used for stdin/stdout/stderr.\n",
            "PYTHONFAULTHANDLER: dump the Python traceback on fatal errors.\n",
            "PYTHONHASHSEED: if this variable is set to 'random', a random value is used\n",
            "   to seed the hashes of str, bytes and datetime objects.  It can also be\n",
            "   set to an integer in the range [0,4294967295] to get hash values with a\n",
            "   predictable seed.\n",
            "PYTHONMALLOC: set the Python memory allocators and/or install debug hooks\n",
            "   on Python memory allocators. Use PYTHONMALLOC=debug to install debug\n",
            "   hooks.\n",
            "PYTHONCOERCECLOCALE: if this variable is set to 0, it disables the locale\n",
            "   coercion behavior. Use PYTHONCOERCECLOCALE=warn to request display of\n",
            "   locale coercion and locale compatibility warnings on stderr.\n",
            "PYTHONBREAKPOINT: if this variable is set to 0, it disables the default\n",
            "   debugger. It can be set to the callable of your debugger of choice.\n",
            "PYTHONDEVMODE: enable the development mode.\n"
          ]
        }
      ]
    },
    {
      "cell_type": "markdown",
      "source": [
        "## So let's get started with our first lines of code\n",
        "\n",
        "As is tradition we will begin with the \"Hello, World!\" exercise."
      ],
      "metadata": {
        "id": "JwllsWKnuU2W"
      }
    },
    {
      "cell_type": "code",
      "source": [
        "print(Hello World)"
      ],
      "metadata": {
        "id": "nMjHmE4su3Vk",
        "outputId": "d92d97fe-3513-4a41-e27c-30112f6fd254",
        "colab": {
          "base_uri": "https://localhost:8080/",
          "height": 130
        }
      },
      "execution_count": 7,
      "outputs": [
        {
          "output_type": "error",
          "ename": "SyntaxError",
          "evalue": "ignored",
          "traceback": [
            "\u001b[0;36m  File \u001b[0;32m\"<ipython-input-7-10cb182148e3>\"\u001b[0;36m, line \u001b[0;32m1\u001b[0m\n\u001b[0;31m    print(Hello World)\u001b[0m\n\u001b[0m                    ^\u001b[0m\n\u001b[0;31mSyntaxError\u001b[0m\u001b[0;31m:\u001b[0m invalid syntax\n"
          ]
        }
      ]
    },
    {
      "cell_type": "markdown",
      "source": [
        "Well maybe it isn't so simple after all. We ran into our first error. When the code we give to the interpreter doesn't work then the interpreter will return an exception, or error, message letting us know what the issue is. Here we have a **syntax error**. Syntax is the programming equivalent of grammar, it refers to the structure of the code and the rules about that structure. In this instance the error is due to the fact that we can't just pass raw text to the interpreter without letting it know to expect text.\n",
        "\n",
        "Text data types are referred to as **strings**, as in strings of text characters. To identify text as a string in Python we need to place it in quotes. So let's try again."
      ],
      "metadata": {
        "id": "Gd3mS_aYVODY"
      }
    },
    {
      "cell_type": "code",
      "source": [
        "print(\"Hello World!\")"
      ],
      "metadata": {
        "id": "rsGdFP6cu7FF",
        "outputId": "e033aa71-086b-465a-c7bc-cf42fc09ccb3",
        "colab": {
          "base_uri": "https://localhost:8080/"
        }
      },
      "execution_count": 8,
      "outputs": [
        {
          "output_type": "stream",
          "name": "stdout",
          "text": [
            "Hello World!\n"
          ]
        }
      ]
    },
    {
      "cell_type": "markdown",
      "source": [
        "We can print numbers too. There are two major numerical data types in Python - **floats** and **integers**. Integers, or ints, are whole numbers, while floats, or floating point numbers, are like decimals."
      ],
      "metadata": {
        "id": "XLZVKSujWUtG"
      }
    },
    {
      "cell_type": "code",
      "source": [
        "print(1)"
      ],
      "metadata": {
        "id": "exgoSm2MWRHm",
        "outputId": "f12958cf-6bdf-4839-8b88-f7550d5a7c24",
        "colab": {
          "base_uri": "https://localhost:8080/"
        }
      },
      "execution_count": 9,
      "outputs": [
        {
          "output_type": "stream",
          "name": "stdout",
          "text": [
            "1\n"
          ]
        }
      ]
    },
    {
      "cell_type": "code",
      "source": [
        "print(\"1\")"
      ],
      "metadata": {
        "id": "x9pvIth2u-wC",
        "outputId": "27fc0452-951a-41d8-ec60-4f5677172b0f",
        "colab": {
          "base_uri": "https://localhost:8080/"
        }
      },
      "execution_count": 10,
      "outputs": [
        {
          "output_type": "stream",
          "name": "stdout",
          "text": [
            "1\n"
          ]
        }
      ]
    },
    {
      "cell_type": "code",
      "source": [
        "print(3.14159)"
      ],
      "metadata": {
        "id": "SYrtOOPOvCES",
        "outputId": "0cc0a263-9d99-4388-995c-cc949b642796",
        "colab": {
          "base_uri": "https://localhost:8080/"
        }
      },
      "execution_count": 11,
      "outputs": [
        {
          "output_type": "stream",
          "name": "stdout",
          "text": [
            "3.14159\n"
          ]
        }
      ]
    },
    {
      "cell_type": "code",
      "source": [
        "type(\"Hello World!\")"
      ],
      "metadata": {
        "id": "q_WSjeXVvFKp",
        "outputId": "b020092f-713e-46fe-db32-1cddcaaca90e",
        "colab": {
          "base_uri": "https://localhost:8080/"
        }
      },
      "execution_count": 12,
      "outputs": [
        {
          "output_type": "execute_result",
          "data": {
            "text/plain": [
              "str"
            ]
          },
          "metadata": {},
          "execution_count": 12
        }
      ]
    },
    {
      "cell_type": "code",
      "source": [
        "type(1)"
      ],
      "metadata": {
        "id": "-hK11O-CvNr4",
        "outputId": "0390bdac-4ba9-4339-a2e4-f5cf970122f6",
        "colab": {
          "base_uri": "https://localhost:8080/"
        }
      },
      "execution_count": 13,
      "outputs": [
        {
          "output_type": "execute_result",
          "data": {
            "text/plain": [
              "int"
            ]
          },
          "metadata": {},
          "execution_count": 13
        }
      ]
    },
    {
      "cell_type": "code",
      "source": [
        "type(3.14159)"
      ],
      "metadata": {
        "id": "WFwTLoBCvPMN",
        "outputId": "56477d2e-cea7-49a1-cebf-937d913395eb",
        "colab": {
          "base_uri": "https://localhost:8080/"
        }
      },
      "execution_count": 14,
      "outputs": [
        {
          "output_type": "execute_result",
          "data": {
            "text/plain": [
              "float"
            ]
          },
          "metadata": {},
          "execution_count": 14
        }
      ]
    },
    {
      "cell_type": "code",
      "source": [
        "print(\"Hello World\" + \"!\")"
      ],
      "metadata": {
        "id": "364SZgIsvTk6",
        "outputId": "b58f8a37-c54a-4277-b1cf-928e8fae3a5e",
        "colab": {
          "base_uri": "https://localhost:8080/"
        }
      },
      "execution_count": 15,
      "outputs": [
        {
          "output_type": "stream",
          "name": "stdout",
          "text": [
            "Hello World!\n"
          ]
        }
      ]
    },
    {
      "cell_type": "code",
      "source": [
        "print(\"Hello World\" + \"4\")"
      ],
      "metadata": {
        "id": "bVAQKiYXvbyy",
        "outputId": "d33e168a-c998-4270-b4f0-be7f602b35b1",
        "colab": {
          "base_uri": "https://localhost:8080/"
        }
      },
      "execution_count": 18,
      "outputs": [
        {
          "output_type": "stream",
          "name": "stdout",
          "text": [
            "Hello World4\n"
          ]
        }
      ]
    },
    {
      "cell_type": "markdown",
      "source": [
        "The lines of code we have just written form what are called statements, or **expressions**. We can think of these like sentences, [in English a complete sentence consists of a subject and a predicate](https://arts.uottawa.ca/writingcentre/en/hypergrammar/the-parts-of-the-sentence). In programming the requirement is somewhat simpler, an expression must be able to be evaluated by the compiler or interpreter.\n",
        "\n",
        "The expressions above (print statements) are evaluated at runtime but we can also have declaritve statements, such as when [variables](https://en.wikipedia.org/wiki/Variable_(computer_science)) and [constants](https://en.wikipedia.org/wiki/Constant_(computer_programming)).\n",
        "\n",
        "In Python we can declare variables quite simply using the assignment operator `=`. Let's declare our first variable in Python."
      ],
      "metadata": {
        "id": "OONcLNe3-sRw"
      }
    },
    {
      "cell_type": "code",
      "source": [
        "greeting = \"Hello World!\"\n",
        "\n",
        "my_name = \"Brian\""
      ],
      "metadata": {
        "id": "bwluupQ_W0jP"
      },
      "execution_count": 22,
      "outputs": []
    },
    {
      "cell_type": "code",
      "source": [
        "print(greeting + \" My name is \" + my_name + \".\")"
      ],
      "metadata": {
        "id": "PXnZBEKhwWIh",
        "outputId": "d944e569-8e02-4229-f641-9520cb673c2a",
        "colab": {
          "base_uri": "https://localhost:8080/"
        }
      },
      "execution_count": 26,
      "outputs": [
        {
          "output_type": "stream",
          "name": "stdout",
          "text": [
            "Hello World! My name is Brian.\n"
          ]
        }
      ]
    },
    {
      "cell_type": "code",
      "source": [
        "print(f\"{greeting} My name is {my_name}.\")"
      ],
      "metadata": {
        "id": "kS8tKDTVxDB1",
        "outputId": "eff5e5ac-74dd-46f1-f0d2-2e5e146bc776",
        "colab": {
          "base_uri": "https://localhost:8080/"
        }
      },
      "execution_count": 25,
      "outputs": [
        {
          "output_type": "stream",
          "name": "stdout",
          "text": [
            "Hello World! My name is Brian.\n"
          ]
        }
      ]
    },
    {
      "cell_type": "code",
      "source": [
        "print(5 + 9)"
      ],
      "metadata": {
        "id": "0khzei9sxmtd",
        "outputId": "0778da79-b58c-4749-981a-c79d01ba1cd2",
        "colab": {
          "base_uri": "https://localhost:8080/"
        }
      },
      "execution_count": 27,
      "outputs": [
        {
          "output_type": "stream",
          "name": "stdout",
          "text": [
            "14\n"
          ]
        }
      ]
    },
    {
      "cell_type": "code",
      "source": [
        "print(42 * 1.25)"
      ],
      "metadata": {
        "id": "UY2Oh793xwke",
        "outputId": "0f3b4ec4-1a9c-4250-b328-06b202c026b8",
        "colab": {
          "base_uri": "https://localhost:8080/"
        }
      },
      "execution_count": 28,
      "outputs": [
        {
          "output_type": "stream",
          "name": "stdout",
          "text": [
            "52.5\n"
          ]
        }
      ]
    },
    {
      "cell_type": "code",
      "source": [
        "print(12 / 3)"
      ],
      "metadata": {
        "id": "kp_3gylLx0yc",
        "outputId": "669c230e-c00c-40ee-d9c8-22313e0d9376",
        "colab": {
          "base_uri": "https://localhost:8080/"
        }
      },
      "execution_count": 29,
      "outputs": [
        {
          "output_type": "stream",
          "name": "stdout",
          "text": [
            "4.0\n"
          ]
        }
      ]
    },
    {
      "cell_type": "code",
      "source": [
        "print(10 // 3)"
      ],
      "metadata": {
        "id": "KlVxuVLBx22a",
        "outputId": "c2f65eac-76c3-4791-f961-5ed434b3024b",
        "colab": {
          "base_uri": "https://localhost:8080/"
        }
      },
      "execution_count": 30,
      "outputs": [
        {
          "output_type": "stream",
          "name": "stdout",
          "text": [
            "3\n"
          ]
        }
      ]
    },
    {
      "cell_type": "code",
      "source": [
        "print(10 % 3)"
      ],
      "metadata": {
        "id": "oBFTJB0Lx6cO",
        "outputId": "4d9b36a3-92c3-47fc-eba4-6c505f6a65be",
        "colab": {
          "base_uri": "https://localhost:8080/"
        }
      },
      "execution_count": 31,
      "outputs": [
        {
          "output_type": "stream",
          "name": "stdout",
          "text": [
            "1\n"
          ]
        }
      ]
    },
    {
      "cell_type": "code",
      "source": [
        "help(print)"
      ],
      "metadata": {
        "id": "_0Jqz9_pycpO",
        "outputId": "7bb44487-7447-4664-d8d8-c4847afb366d",
        "colab": {
          "base_uri": "https://localhost:8080/"
        }
      },
      "execution_count": 33,
      "outputs": [
        {
          "output_type": "stream",
          "name": "stdout",
          "text": [
            "Help on built-in function print in module builtins:\n",
            "\n",
            "print(...)\n",
            "    print(value, ..., sep=' ', end='\\n', file=sys.stdout, flush=False)\n",
            "    \n",
            "    Prints the values to a stream, or to sys.stdout by default.\n",
            "    Optional keyword arguments:\n",
            "    file:  a file-like object (stream); defaults to the current sys.stdout.\n",
            "    sep:   string inserted between values, default a space.\n",
            "    end:   string appended after the last value, default a newline.\n",
            "    flush: whether to forcibly flush the stream.\n",
            "\n"
          ]
        }
      ]
    },
    {
      "cell_type": "code",
      "source": [
        "help(type)"
      ],
      "metadata": {
        "id": "8r_94rXGyl9S",
        "outputId": "569a08cb-d813-4735-986a-b51459f2ade1",
        "colab": {
          "base_uri": "https://localhost:8080/"
        }
      },
      "execution_count": 34,
      "outputs": [
        {
          "output_type": "stream",
          "name": "stdout",
          "text": [
            "Help on class type in module builtins:\n",
            "\n",
            "class type(object)\n",
            " |  type(object_or_name, bases, dict)\n",
            " |  type(object) -> the object's type\n",
            " |  type(name, bases, dict) -> a new type\n",
            " |  \n",
            " |  Methods defined here:\n",
            " |  \n",
            " |  __call__(self, /, *args, **kwargs)\n",
            " |      Call self as a function.\n",
            " |  \n",
            " |  __delattr__(self, name, /)\n",
            " |      Implement delattr(self, name).\n",
            " |  \n",
            " |  __dir__(self, /)\n",
            " |      Specialized __dir__ implementation for types.\n",
            " |  \n",
            " |  __getattribute__(self, name, /)\n",
            " |      Return getattr(self, name).\n",
            " |  \n",
            " |  __init__(self, /, *args, **kwargs)\n",
            " |      Initialize self.  See help(type(self)) for accurate signature.\n",
            " |  \n",
            " |  __instancecheck__(self, instance, /)\n",
            " |      Check if an object is an instance.\n",
            " |  \n",
            " |  __repr__(self, /)\n",
            " |      Return repr(self).\n",
            " |  \n",
            " |  __setattr__(self, name, value, /)\n",
            " |      Implement setattr(self, name, value).\n",
            " |  \n",
            " |  __sizeof__(self, /)\n",
            " |      Return memory consumption of the type object.\n",
            " |  \n",
            " |  __subclasscheck__(self, subclass, /)\n",
            " |      Check if a class is a subclass.\n",
            " |  \n",
            " |  __subclasses__(self, /)\n",
            " |      Return a list of immediate subclasses.\n",
            " |  \n",
            " |  mro(self, /)\n",
            " |      Return a type's method resolution order.\n",
            " |  \n",
            " |  ----------------------------------------------------------------------\n",
            " |  Class methods defined here:\n",
            " |  \n",
            " |  __prepare__(...)\n",
            " |      __prepare__() -> dict\n",
            " |      used to create the namespace for the class statement\n",
            " |  \n",
            " |  ----------------------------------------------------------------------\n",
            " |  Static methods defined here:\n",
            " |  \n",
            " |  __new__(*args, **kwargs)\n",
            " |      Create and return a new object.  See help(type) for accurate signature.\n",
            " |  \n",
            " |  ----------------------------------------------------------------------\n",
            " |  Data descriptors defined here:\n",
            " |  \n",
            " |  __abstractmethods__\n",
            " |  \n",
            " |  __dict__\n",
            " |  \n",
            " |  __text_signature__\n",
            " |  \n",
            " |  ----------------------------------------------------------------------\n",
            " |  Data and other attributes defined here:\n",
            " |  \n",
            " |  __base__ = <class 'object'>\n",
            " |      The most base type\n",
            " |  \n",
            " |  __bases__ = (<class 'object'>,)\n",
            " |  \n",
            " |  __basicsize__ = 864\n",
            " |  \n",
            " |  __dictoffset__ = 264\n",
            " |  \n",
            " |  __flags__ = 2148291584\n",
            " |  \n",
            " |  __itemsize__ = 40\n",
            " |  \n",
            " |  __mro__ = (<class 'type'>, <class 'object'>)\n",
            " |  \n",
            " |  __weakrefoffset__ = 368\n",
            "\n"
          ]
        }
      ]
    },
    {
      "cell_type": "markdown",
      "source": [
        "Notice that there was no output produced by the above code cell because the we have only declared the variable. We can now reference the variable inside another statement."
      ],
      "metadata": {
        "id": "FEtL5cy4Cy8o"
      }
    },
    {
      "cell_type": "code",
      "source": [
        ""
      ],
      "metadata": {
        "id": "u1vEyKEKCvCx"
      },
      "execution_count": null,
      "outputs": []
    },
    {
      "cell_type": "markdown",
      "source": [
        "We can even combine strings in a print statment using the `+` operator."
      ],
      "metadata": {
        "id": "8JZHAr6LM6Uo"
      }
    },
    {
      "cell_type": "code",
      "source": [
        ""
      ],
      "metadata": {
        "id": "Un4qFVwdMPxs"
      },
      "execution_count": null,
      "outputs": []
    },
    {
      "cell_type": "markdown",
      "source": [
        "Throughout the rest of this course we will dive deeper into what we have already discussed as well as many other things. Congratulations on taking the first steps towards becoming a Pythonista!"
      ],
      "metadata": {
        "id": "m9dTmDG3N3pW"
      }
    }
  ]
}